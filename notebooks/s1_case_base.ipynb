{
 "cells": [
  {
   "cell_type": "markdown",
   "id": "5219ce9e",
   "metadata": {},
   "source": [
    "### Cell 1: Instalasi & Imports"
   ]
  },
  {
   "cell_type": "code",
   "execution_count": null,
   "id": "45a6d8c9",
   "metadata": {},
   "outputs": [],
   "source": [
    "# Install library yang dibutuhkan\n",
    "%pip install pandas requests beautifulsoup4 pdfminer.six lxml tqdm > /dev/null 2>&1"
   ]
  },
  {
   "cell_type": "code",
   "execution_count": null,
   "id": "bec7d12e",
   "metadata": {},
   "outputs": [],
   "source": [
    "import os\n",
    "import time\n",
    "import logging\n",
    "import requests\n",
    "from bs4 import BeautifulSoup\n",
    "from tqdm import tqdm\n",
    "\n",
    "# Direktori (notebook di notebooks/, naik satu tingkat)\n",
    "HTML_DIR = os.path.join(\"..\", \"data\", \"raw\", \"html\")  # untuk simpan HTML\n",
    "TEXT_DIR = os.path.join(\"..\", \"data\", \"raw\", \"text\") # untuk simpan teks mentah & bersih\n",
    "LOG_DIR  = os.path.join(\"..\", \"logs\")\n",
    "for d in (HTML_DIR, TEXT_DIR, LOG_DIR):\n",
    "    os.makedirs(d, exist_ok=True)\n",
    "\n",
    "# Setup logging\n",
    "logging.basicConfig(\n",
    "    filename=os.path.join(LOG_DIR, \"cleaning.log\"),\n",
    "    level=logging.INFO,\n",
    "    format=\"%(asctime)s %(levelname)s %(message)s\"\n",
    ")\n",
    "\n",
    "# Konfigurasi scraping\n",
    "SEARCH_URL = (\n",
    "    \"https://putusan3.mahkamahagung.go.id/search.html\"\n",
    "    \"?q=&jenis_doc=putusan&cat=8dff1a19444a2f2d63becf72c08c2fdd\"\n",
    "    \"&court=098111PN340&t_put=2022\"\n",
    ")\n",
    "BASE_URL = \"https://putusan3.mahkamahagung.go.id\"\n",
    "HEADERS  = {\"User-Agent\": \"Mozilla/5.0\"}"
   ]
  },
  {
   "cell_type": "markdown",
   "id": "772556a5",
   "metadata": {},
   "source": [
    "### Cell 2: Seleksi & Unduh HTML"
   ]
  },
  {
   "cell_type": "code",
   "execution_count": null,
   "id": "7a927e2e",
   "metadata": {},
   "outputs": [
    {
     "name": "stdout",
     "output_type": "stream",
     "text": [
      "[Page 1] status=200\n",
      "[Page 2] status=200\n",
      "[Page 3] status=200\n",
      "Found 50 links\n"
     ]
    },
    {
     "name": "stderr",
     "output_type": "stream",
     "text": [
      "Downloading HTML: 100%|██████████| 50/50 [06:32<00:00,  7.85s/it]\n"
     ]
    }
   ],
   "source": [
    "def get_case_links(search_url: str, max_pages: int = 10, target: int = None) -> list:\n",
    "    # Kumpulkan link detail putusan hingga `target`.\n",
    "    links = []\n",
    "    for page in range(1, max_pages+1):\n",
    "        url = f\"{search_url}&page={page}\"\n",
    "        resp = requests.get(url, headers=HEADERS)\n",
    "        print(f\"[Page {page}] status={resp.status_code}\")\n",
    "        soup = BeautifulSoup(resp.text, \"lxml\")\n",
    "        anchors = soup.select(\"a[href*='/direktori/putusan/']\")\n",
    "        for a in anchors:\n",
    "            href = a['href']\n",
    "            full = href if href.startswith(\"http\") else BASE_URL + href\n",
    "            if full not in links:\n",
    "                links.append(full)\n",
    "                if target and len(links) >= target:\n",
    "                    return links\n",
    "        time.sleep(1)\n",
    "    return links\n",
    "\n",
    "# Ambil dan unduh 50 HTML\n",
    "links = get_case_links(SEARCH_URL, max_pages=10, target=50)\n",
    "print(f\"Found {len(links)} links\")\n",
    "for idx, url in enumerate(tqdm(links, desc=\"Downloading HTML\"), 1):\n",
    "    resp = requests.get(url, headers=HEADERS)\n",
    "    with open(os.path.join(HTML_DIR, f\"case_{idx:03d}.html\"), \"w\", encoding=\"utf-8\") as f:\n",
    "        f.write(resp.text)\n",
    "    time.sleep(0.5)"
   ]
  },
  {
   "cell_type": "markdown",
   "id": "0e889f0c",
   "metadata": {},
   "source": [
    "### Cell 3: Ekstraksi Teks Mentah dari HTML"
   ]
  },
  {
   "cell_type": "code",
   "execution_count": 5,
   "id": "90992d4b",
   "metadata": {},
   "outputs": [],
   "source": [
    "from bs4 import BeautifulSoup\n",
    "\n",
    "def extract_raw_text(html_path: str) -> str:\n",
    "    \"\"\"\n",
    "    Ekstrak container utama teks sebelum cleaning.\n",
    "    \"\"\"\n",
    "    with open(html_path, \"r\", encoding=\"utf-8\") as f:\n",
    "        soup = BeautifulSoup(f, \"lxml\")\n",
    "    return soup.get_text(separator=\"\\n\")\n",
    "\n",
    "# Simpan raw teks\n",
    "for idx, fname in enumerate(sorted(os.listdir(HTML_DIR)), 1):\n",
    "    raw = extract_raw_text(os.path.join(HTML_DIR, fname))\n",
    "    with open(os.path.join(TEXT_DIR, f\"raw_{idx:03d}.txt\"), \"w\", encoding=\"utf-8\") as f:\n",
    "        f.write(raw)"
   ]
  },
  {
   "cell_type": "markdown",
   "id": "0880666f",
   "metadata": {},
   "source": [
    "### Cell 4: Pembersihan Teks"
   ]
  },
  {
   "cell_type": "code",
   "execution_count": 18,
   "id": "d96bfcd6",
   "metadata": {},
   "outputs": [],
   "source": [
    "# Pastikan direktori clean ada\n",
    "CLEAN_TEXT_DIR = os.path.join(\"..\", \"data\", \"raw\", \"clean_text\") \n",
    "os.makedirs(CLEAN_TEXT_DIR, exist_ok=True)\n",
    "os.makedirs(CLEAN_TEXT_DIR, exist_ok=True)"
   ]
  },
  {
   "cell_type": "code",
   "execution_count": 29,
   "id": "27c28d6b",
   "metadata": {},
   "outputs": [
    {
     "name": "stdout",
     "output_type": "stream",
     "text": [
      "Selesai membersihkan 47 berkas penipuan. Cek logs/cleaning.log untuk detail.\n"
     ]
    }
   ],
   "source": [
    "import os\n",
    "from bs4 import BeautifulSoup\n",
    "import re, html\n",
    "\n",
    "# Setup logging\n",
    "logging.basicConfig(\n",
    "    filename=os.path.join(LOG_DIR, \"cleaning.log\"),\n",
    "    level=logging.INFO,\n",
    "    format=\"%(asctime)s %(levelname)s %(message)s\"\n",
    ")\n",
    "\n",
    "def clean_text(raw_html: str) -> (str, int): # type: ignore\n",
    "    \"\"\"\n",
    "    Bersihkan HTML dan slice teks,\n",
    "    kembalikan (cleaned_text, bullets_removed_count)\n",
    "    \"\"\"\n",
    "    # 1) Hapus tag noise\n",
    "    soup = BeautifulSoup(raw_html, \"lxml\")\n",
    "    for tag in soup([\"script\",\"style\",\"noscript\",\"header\",\"footer\",\"nav\",\"iframe\",\"table\"]):\n",
    "        tag.decompose()\n",
    "\n",
    "    # 2) Ambil isi utama\n",
    "    main = soup.select_one(\"div#tabs-1\")\n",
    "    text = main.get_text(\"\\n\") if main else soup.get_text(\"\\n\")\n",
    "    text = html.unescape(text)\n",
    "\n",
    "    # 3) Koreksi typo bulan\n",
    "    text = re.sub(r\"\\bnopember\\b\", \"november\", text, flags=re.I)\n",
    "\n",
    "    # 4) Slicing dari 'putusan pn surabaya' hingga sebelum 'statistik'\n",
    "    low = text.lower()\n",
    "    s = low.find(\"putusan pn surabaya\")\n",
    "    e = low.rfind(\"statistik\")\n",
    "    if s != -1 and e != -1 and e > s:\n",
    "        text = text[s:e]\n",
    "\n",
    "    # 5) Hapus nomor urut bullet & filter noise\n",
    "    lines = []\n",
    "    bullets_removed = 0\n",
    "    for ln in text.splitlines():\n",
    "        original = ln.strip()\n",
    "        # hapus \"1. \", \"2. \", dll.\n",
    "        cleaned_ln = re.sub(r\"^\\d+\\.\\s*\", \"\", original)\n",
    "        if cleaned_ln != original:\n",
    "            bullets_removed += 1\n",
    "        ln = cleaned_ln\n",
    "        # buang baris terlalu pendek atau berisi noise\n",
    "        if len(ln) < 5:\n",
    "            continue\n",
    "        if re.search(r\"http|download pdf|mahkamah agung\", ln, re.I):\n",
    "            continue\n",
    "        lines.append(ln)\n",
    "\n",
    "    # 6) Normalize whitespace\n",
    "    joined  = \"\\n\".join(lines)\n",
    "    cleaned = re.sub(r\"\\n+\", \"\\n\", joined)\n",
    "    cleaned = re.sub(r\"[ \\t]+\", \" \", cleaned)\n",
    "\n",
    "    # 7) Pastikan ada spasi setelah \")\"\n",
    "    cleaned = re.sub(r\"\\)\\s*([a-z])\", r\") \\1\", cleaned)\n",
    "\n",
    "    return cleaned.strip().lower(), bullets_removed\n",
    "\n",
    "# ─── Eksekusi Cleaning ─────────────────────────────────────────────────────\n",
    "raw_files = sorted(f for f in os.listdir(TEXT_DIR) if f.startswith(\"raw_\"))\n",
    "out_idx = 0\n",
    "\n",
    "for raw_fname in raw_files:\n",
    "    raw_path = os.path.join(TEXT_DIR, raw_fname)\n",
    "    raw_html = open(raw_path, encoding=\"utf-8\").read()\n",
    "\n",
    "    # Skip jika bukan kasus penipuan\n",
    "    if not re.search(r\"\\bpenipuan\\b\", raw_html, re.I):\n",
    "        logging.info(f\"Skip {raw_fname}: bukan kasus penipuan\")\n",
    "        continue\n",
    "\n",
    "    out_idx += 1\n",
    "    raw_len = len(raw_html)\n",
    "    cleaned, bullets_removed = clean_text(raw_html)\n",
    "    clean_len = len(cleaned)\n",
    "\n",
    "    out_fname = f\"clean_{out_idx:03d}.txt\"\n",
    "    out_path  = os.path.join(CLEAN_TEXT_DIR, out_fname)\n",
    "    with open(out_path, \"w\", encoding=\"utf-8\") as f:\n",
    "        f.write(cleaned)\n",
    "\n",
    "    logging.info(\n",
    "        f\"Berkas {out_fname} tersimpan (raw: {raw_len} → clean: {clean_len}); \"\n",
    "        f\"bullet dihapus: {bullets_removed}\"\n",
    "    )\n",
    "\n",
    "print(f\"Selesai membersihkan {out_idx} berkas penipuan. Cek logs/cleaning.log untuk detail.\")"
   ]
  },
  {
   "cell_type": "markdown",
   "id": "63a62083",
   "metadata": {},
   "source": [
    "### Cell 5: Validasi & Logging"
   ]
  },
  {
   "cell_type": "code",
   "execution_count": 24,
   "id": "464d677a",
   "metadata": {},
   "outputs": [
    {
     "name": "stdout",
     "output_type": "stream",
     "text": [
      "Validasi selesai: 0 \n",
      "berkas gagal (cek cleaning.log).\n"
     ]
    }
   ],
   "source": [
    "def validate_text(text: str, min_len: int = 100) -> bool:\n",
    "    if len(text) < min_len:\n",
    "        logging.warning(f\"Validasi gagal (panjang: {len(text)})\")\n",
    "        return False\n",
    "    return True\n",
    "\n",
    "failed = []\n",
    "for fname in sorted(os.listdir(CLEAN_TEXT_DIR)):\n",
    "    if not fname.startswith(\"clean_\"):\n",
    "        continue\n",
    "    txt = open(os.path.join(CLEAN_TEXT_DIR, fname), encoding=\"utf-8\").read()\n",
    "    if not validate_text(txt):\n",
    "        failed.append(fname)\n",
    "\n",
    "print(f\"Validasi selesai: {len(failed)} \\nberkas gagal (cek cleaning.log).\")"
   ]
  }
 ],
 "metadata": {
  "kernelspec": {
   "display_name": "Python 3",
   "language": "python",
   "name": "python3"
  },
  "language_info": {
   "codemirror_mode": {
    "name": "ipython",
    "version": 3
   },
   "file_extension": ".py",
   "mimetype": "text/x-python",
   "name": "python",
   "nbconvert_exporter": "python",
   "pygments_lexer": "ipython3",
   "version": "3.13.3"
  }
 },
 "nbformat": 4,
 "nbformat_minor": 5
}

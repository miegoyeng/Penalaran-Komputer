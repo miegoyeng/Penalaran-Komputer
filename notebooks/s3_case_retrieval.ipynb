{
 "cells": [
  {
   "cell_type": "markdown",
   "id": "2d01473e",
   "metadata": {},
   "source": [
    "### Cell 1: Instalasi & Imports"
   ]
  },
  {
   "cell_type": "code",
   "execution_count": null,
   "id": "db4a67d6",
   "metadata": {},
   "outputs": [],
   "source": [
    "%pip install pandas scikit-learn faiss-cpu"
   ]
  },
  {
   "cell_type": "code",
   "execution_count": 14,
   "id": "af138653",
   "metadata": {},
   "outputs": [
    {
     "name": "stdout",
     "output_type": "stream",
     "text": [
      "[i] TF-IDF vector ready: shape=(47, 2551)\n"
     ]
    }
   ],
   "source": [
    "import os\n",
    "import pandas as pd\n",
    "from sklearn.feature_extraction.text import TfidfVectorizer\n",
    "import faiss\n",
    "import pickle\n",
    "\n",
    "# Direktori dan paths\n",
    "PROCESSED_DIR   = os.path.join(\"..\", \"data\", \"processed\")\n",
    "VEC_DIR         = os.path.join(\"..\", \"data\", \"vectors\")\n",
    "EVAL_DIR        = os.path.join(\"..\", \"data\", \"eval\")\n",
    "CSV_PATH        = os.path.join(PROCESSED_DIR, \"cases_cleaned.csv\")\n",
    "TFIDF_VEC_PATH  = os.path.join(VEC_DIR, \"tfidf_fulltext_vec.pkl\")\n",
    "QUERIES_PATH    = os.path.join(EVAL_DIR, \"queries.json\")\n",
    "\n",
    "# Load data dan prepare teks\n",
    "os.makedirs(EVAL_DIR, exist_ok=True)\n",
    "df = pd.read_csv(CSV_PATH)\n",
    "texts = df['text_full'].fillna(\"\").tolist()\n",
    "\n",
    "# Fit TF-IDF\n",
    "vec = TfidfVectorizer(max_features=5000)\n",
    "sparse_X = vec.fit_transform(texts)\n",
    "# Simpan vectorizer\n",
    "os.makedirs(VEC_DIR, exist_ok=True)\n",
    "with open(TFIDF_VEC_PATH, 'wb') as f:\n",
    "    pickle.dump(vec, f)\n",
    "\n",
    "# Convert ke array untuk Faiss\n",
    "X = sparse_X.toarray().astype('float32')\n",
    "print(f\"[i] TF-IDF vector ready: shape={X.shape}\")"
   ]
  },
  {
   "cell_type": "markdown",
   "id": "2bb46ade",
   "metadata": {},
   "source": [
    "### Cell 2: Splitting Data"
   ]
  },
  {
   "cell_type": "code",
   "execution_count": 16,
   "id": "4844a417",
   "metadata": {},
   "outputs": [
    {
     "name": "stdout",
     "output_type": "stream",
     "text": [
      "[ii] Data split: 37 train, 10 test\n"
     ]
    }
   ],
   "source": [
    "from sklearn.model_selection import train_test_split\n",
    "\n",
    "# Labels: gunakan case_id\n",
    "y = df['case_id'].values\n",
    "# Bagi data train/test 80:20\n",
    "X_train, X_test, y_train, y_test = train_test_split(\n",
    "    X, y, test_size=0.2, random_state=42\n",
    ")\n",
    "print(f\"[ii] Data split: {X_train.shape[0]} train, {X_test.shape[0]} test\")"
   ]
  },
  {
   "cell_type": "markdown",
   "id": "226bfe43",
   "metadata": {},
   "source": [
    "### Cell 3: Model Retrieval"
   ]
  },
  {
   "cell_type": "code",
   "execution_count": 17,
   "id": "19890658",
   "metadata": {},
   "outputs": [
    {
     "name": "stdout",
     "output_type": "stream",
     "text": [
      "[iii] Models trained: NB and SVM\n"
     ]
    }
   ],
   "source": [
    "from sklearn.naive_bayes import MultinomialNB\n",
    "from sklearn.svm import SVC\n",
    "from sklearn.preprocessing import LabelEncoder\n",
    "\n",
    "# Encode labels\n",
    "le = LabelEncoder()\n",
    "y_train_enc = le.fit_transform(y_train)\n",
    "\n",
    "# Pilih model: 'nb' atau 'svm'\n",
    "def train_model(method='nb'):\n",
    "    if method == 'svm':\n",
    "        clf = SVC(kernel='linear', probability=True, random_state=42)\n",
    "    else:\n",
    "        clf = MultinomialNB()\n",
    "    clf.fit(X_train, y_train_enc)\n",
    "    return clf\n",
    "\n",
    "clf_nb  = train_model('nb')\n",
    "clf_svm = train_model('svm')\n",
    "print(\"[iii] Models trained: NB and SVM\")"
   ]
  },
  {
   "cell_type": "markdown",
   "id": "5ec184b7",
   "metadata": {},
   "source": [
    "### Cell 4: Fungsi Retrieval"
   ]
  },
  {
   "cell_type": "code",
   "execution_count": 18,
   "id": "7ad4ab08",
   "metadata": {},
   "outputs": [
    {
     "name": "stdout",
     "output_type": "stream",
     "text": [
      "=== Faiss Retrieval ===\n"
     ]
    },
    {
     "data": {
      "text/html": [
       "<div>\n",
       "<style scoped>\n",
       "    .dataframe tbody tr th:only-of-type {\n",
       "        vertical-align: middle;\n",
       "    }\n",
       "\n",
       "    .dataframe tbody tr th {\n",
       "        vertical-align: top;\n",
       "    }\n",
       "\n",
       "    .dataframe thead th {\n",
       "        text-align: right;\n",
       "    }\n",
       "</style>\n",
       "<table border=\"1\" class=\"dataframe\">\n",
       "  <thead>\n",
       "    <tr style=\"text-align: right;\">\n",
       "      <th></th>\n",
       "      <th>case_id</th>\n",
       "      <th>no_perkara</th>\n",
       "      <th>tanggal</th>\n",
       "      <th>ringkasan_fakta</th>\n",
       "      <th>score</th>\n",
       "    </tr>\n",
       "  </thead>\n",
       "  <tbody>\n",
       "    <tr>\n",
       "      <th>0</th>\n",
       "      <td>2</td>\n",
       "      <td>1379/pid.b/2022/pn</td>\n",
       "      <td>2022-09-08</td>\n",
       "      <td>1 (satu) buku pencatatan bulanan warna hijau p...</td>\n",
       "      <td>0.195149</td>\n",
       "    </tr>\n",
       "    <tr>\n",
       "      <th>1</th>\n",
       "      <td>7</td>\n",
       "      <td>2225/pid.b/2022/pn</td>\n",
       "      <td>2022-12-19</td>\n",
       "      <td>putusan pn surabaya\\n2225/pid</td>\n",
       "      <td>0.045140</td>\n",
       "    </tr>\n",
       "    <tr>\n",
       "      <th>2</th>\n",
       "      <td>31</td>\n",
       "      <td>1891/pid.b/2022/pn</td>\n",
       "      <td>2022-10-31</td>\n",
       "      <td>putusan pn surabaya\\n1891/pid</td>\n",
       "      <td>0.028963</td>\n",
       "    </tr>\n",
       "    <tr>\n",
       "      <th>3</th>\n",
       "      <td>47</td>\n",
       "      <td>881/pid.b/2022/pn</td>\n",
       "      <td>2022-06-23</td>\n",
       "      <td>putusan pn surabaya\\n881/pid</td>\n",
       "      <td>0.027381</td>\n",
       "    </tr>\n",
       "    <tr>\n",
       "      <th>4</th>\n",
       "      <td>32</td>\n",
       "      <td>2678/pid.b/2021/pn</td>\n",
       "      <td>2022-02-14</td>\n",
       "      <td>putusan pn surabaya\\n2678/pid</td>\n",
       "      <td>0.022293</td>\n",
       "    </tr>\n",
       "  </tbody>\n",
       "</table>\n",
       "</div>"
      ],
      "text/plain": [
       "   case_id          no_perkara     tanggal  \\\n",
       "0        2  1379/pid.b/2022/pn  2022-09-08   \n",
       "1        7  2225/pid.b/2022/pn  2022-12-19   \n",
       "2       31  1891/pid.b/2022/pn  2022-10-31   \n",
       "3       47   881/pid.b/2022/pn  2022-06-23   \n",
       "4       32  2678/pid.b/2021/pn  2022-02-14   \n",
       "\n",
       "                                     ringkasan_fakta     score  \n",
       "0  1 (satu) buku pencatatan bulanan warna hijau p...  0.195149  \n",
       "1                      putusan pn surabaya\\n2225/pid  0.045140  \n",
       "2                      putusan pn surabaya\\n1891/pid  0.028963  \n",
       "3                       putusan pn surabaya\\n881/pid  0.027381  \n",
       "4                      putusan pn surabaya\\n2678/pid  0.022293  "
      ]
     },
     "metadata": {},
     "output_type": "display_data"
    },
    {
     "name": "stdout",
     "output_type": "stream",
     "text": [
      "=== Cosine Retrieval ===\n"
     ]
    },
    {
     "data": {
      "text/html": [
       "<div>\n",
       "<style scoped>\n",
       "    .dataframe tbody tr th:only-of-type {\n",
       "        vertical-align: middle;\n",
       "    }\n",
       "\n",
       "    .dataframe tbody tr th {\n",
       "        vertical-align: top;\n",
       "    }\n",
       "\n",
       "    .dataframe thead th {\n",
       "        text-align: right;\n",
       "    }\n",
       "</style>\n",
       "<table border=\"1\" class=\"dataframe\">\n",
       "  <thead>\n",
       "    <tr style=\"text-align: right;\">\n",
       "      <th></th>\n",
       "      <th>case_id</th>\n",
       "      <th>no_perkara</th>\n",
       "      <th>tanggal</th>\n",
       "      <th>ringkasan_fakta</th>\n",
       "      <th>score</th>\n",
       "    </tr>\n",
       "  </thead>\n",
       "  <tbody>\n",
       "    <tr>\n",
       "      <th>0</th>\n",
       "      <td>2</td>\n",
       "      <td>1379/pid.b/2022/pn</td>\n",
       "      <td>2022-09-08</td>\n",
       "      <td>1 (satu) buku pencatatan bulanan warna hijau p...</td>\n",
       "      <td>0.195149</td>\n",
       "    </tr>\n",
       "    <tr>\n",
       "      <th>1</th>\n",
       "      <td>7</td>\n",
       "      <td>2225/pid.b/2022/pn</td>\n",
       "      <td>2022-12-19</td>\n",
       "      <td>putusan pn surabaya\\n2225/pid</td>\n",
       "      <td>0.045140</td>\n",
       "    </tr>\n",
       "    <tr>\n",
       "      <th>2</th>\n",
       "      <td>31</td>\n",
       "      <td>1891/pid.b/2022/pn</td>\n",
       "      <td>2022-10-31</td>\n",
       "      <td>putusan pn surabaya\\n1891/pid</td>\n",
       "      <td>0.028963</td>\n",
       "    </tr>\n",
       "    <tr>\n",
       "      <th>3</th>\n",
       "      <td>47</td>\n",
       "      <td>881/pid.b/2022/pn</td>\n",
       "      <td>2022-06-23</td>\n",
       "      <td>putusan pn surabaya\\n881/pid</td>\n",
       "      <td>0.027381</td>\n",
       "    </tr>\n",
       "    <tr>\n",
       "      <th>4</th>\n",
       "      <td>32</td>\n",
       "      <td>2678/pid.b/2021/pn</td>\n",
       "      <td>2022-02-14</td>\n",
       "      <td>putusan pn surabaya\\n2678/pid</td>\n",
       "      <td>0.022293</td>\n",
       "    </tr>\n",
       "  </tbody>\n",
       "</table>\n",
       "</div>"
      ],
      "text/plain": [
       "   case_id          no_perkara     tanggal  \\\n",
       "0        2  1379/pid.b/2022/pn  2022-09-08   \n",
       "1        7  2225/pid.b/2022/pn  2022-12-19   \n",
       "2       31  1891/pid.b/2022/pn  2022-10-31   \n",
       "3       47   881/pid.b/2022/pn  2022-06-23   \n",
       "4       32  2678/pid.b/2021/pn  2022-02-14   \n",
       "\n",
       "                                     ringkasan_fakta     score  \n",
       "0  1 (satu) buku pencatatan bulanan warna hijau p...  0.195149  \n",
       "1                      putusan pn surabaya\\n2225/pid  0.045140  \n",
       "2                      putusan pn surabaya\\n1891/pid  0.028963  \n",
       "3                       putusan pn surabaya\\n881/pid  0.027381  \n",
       "4                      putusan pn surabaya\\n2678/pid  0.022293  "
      ]
     },
     "metadata": {},
     "output_type": "display_data"
    }
   ],
   "source": [
    "import faiss\n",
    "from sklearn.metrics.pairwise import cosine_similarity\n",
    "\n",
    "# Build Faiss index untuk cosine similarity\n",
    "index = faiss.IndexFlatIP(X.shape[1])\n",
    "faiss.normalize_L2(X)\n",
    "index.add(X)\n",
    "\n",
    "# Fungsi retrieve top-k dengan Faiss\n",
    "def retrieve_faiss(query: str, k: int = 5):\n",
    "    q_vec = vec.transform([query]).toarray().astype('float32')\n",
    "    faiss.normalize_L2(q_vec)\n",
    "    D, I = index.search(q_vec, k)\n",
    "    res = df.iloc[I[0]].copy().reset_index(drop=True)\n",
    "    res['score'] = D[0]\n",
    "    return res\n",
    "\n",
    "# Fungsi retrieve top-k alternatif dengan cosine_similarity\n",
    "\n",
    "def retrieve_cosine(query: str, k: int = 5):\n",
    "    q_vec = vec.transform([query]).toarray()\n",
    "    sim = cosine_similarity(q_vec, X)[0]\n",
    "    idx_sorted = sim.argsort()[::-1][:k]\n",
    "    res = df.iloc[idx_sorted].copy().reset_index(drop=True)\n",
    "    res['score'] = sim[idx_sorted]\n",
    "    return res\n",
    "\n",
    "# Contoh penggunaan: coba kedua metode\n",
    "query = \"penipuan buku pencatatan genset\"\n",
    "res_faiss = retrieve_faiss(query, k=5)\n",
    "res_cosine = retrieve_cosine(query, k=5)\n",
    "\n",
    "print(\"=== Faiss Retrieval ===\")\n",
    "display(res_faiss[['case_id','no_perkara','tanggal','ringkasan_fakta','score']])\n",
    "print(\"=== Cosine Retrieval ===\")\n",
    "display(res_cosine[['case_id','no_perkara','tanggal','ringkasan_fakta','score']])"
   ]
  },
  {
   "cell_type": "markdown",
   "id": "fea850f8",
   "metadata": {},
   "source": [
    "### Cell 5: Pengujian Awal"
   ]
  },
  {
   "cell_type": "code",
   "execution_count": 28,
   "id": "e3834add",
   "metadata": {},
   "outputs": [
    {
     "name": "stdout",
     "output_type": "stream",
     "text": [
      "[v] 5 queries saved to ..\\data\\eval\\queries.json\n"
     ]
    }
   ],
   "source": [
    "import os\n",
    "import json\n",
    "\n",
    "# Path JSON queries hasil evaluasi\n",
    "os.makedirs(EVAL_DIR, exist_ok=True)\n",
    "QUERIES_PATH = os.path.join(EVAL_DIR, \"queries.json\")\n",
    "\n",
    "# Siapkan 5 query uji menggunakan kalimat pertama setiap kasus\n",
    "def get_first_sentence(text):\n",
    "    return text.split('.')[0][:100].strip()\n",
    "\n",
    "records = []\n",
    "for idx, row in df.sample(5, random_state=42).iterrows():\n",
    "    records.append({\n",
    "        'query': get_first_sentence(row['text_full']),\n",
    "        'ground_truth': int(row['case_id'])\n",
    "    })\n",
    "\n",
    "# Simpan ke JSON seperti modul\n",
    "with open(QUERIES_PATH, 'w', encoding='utf-8') as f:\n",
    "    json.dump(records, f, ensure_ascii=False, indent=2)\n",
    "\n",
    "print(f\"[v] {len(records)} queries saved to {QUERIES_PATH}\")"
   ]
  }
 ],
 "metadata": {
  "kernelspec": {
   "display_name": "Python 3",
   "language": "python",
   "name": "python3"
  },
  "language_info": {
   "codemirror_mode": {
    "name": "ipython",
    "version": 3
   },
   "file_extension": ".py",
   "mimetype": "text/x-python",
   "name": "python",
   "nbconvert_exporter": "python",
   "pygments_lexer": "ipython3",
   "version": "3.13.3"
  }
 },
 "nbformat": 4,
 "nbformat_minor": 5
}

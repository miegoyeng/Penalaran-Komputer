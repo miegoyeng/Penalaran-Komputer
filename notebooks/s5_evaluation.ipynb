{
 "cells": [
  {
   "cell_type": "markdown",
   "id": "979423ec",
   "metadata": {},
   "source": [
    "### Cell 1: Instalasi & Imports"
   ]
  },
  {
   "cell_type": "code",
   "execution_count": 20,
   "id": "eed7c193",
   "metadata": {},
   "outputs": [
    {
     "name": "stdout",
     "output_type": "stream",
     "text": [
      "[i] Loaded 5 queries and 10 prediction records.\n"
     ]
    }
   ],
   "source": [
    "import os, json\n",
    "import pandas as pd\n",
    "\n",
    "# Direktori & Paths\n",
    "EVAL_DIR          = os.path.join(\"..\", \"data\", \"eval\")\n",
    "QUERIES_PATH      = os.path.join(EVAL_DIR, \"queries.json\")\n",
    "PREDICTIONS_CSV   = os.path.join(\"..\", \"data\", \"results\", \"predictions.csv\")\n",
    "RETRIEVAL_METRICS = os.path.join(EVAL_DIR, \"retrieval_metrics.csv\")\n",
    "\n",
    "# Load ground-truth dan prediksi\n",
    "with open(QUERIES_PATH, 'r', encoding='utf-8') as f:\n",
    "    queries = json.load(f)\n",
    "df_pred = pd.read_csv(PREDICTIONS_CSV)\n",
    "# Parse kolom top_5_case_ids bila string\n",
    "df_pred['top_5_case_ids'] = df_pred['top_5_case_ids'].apply(\n",
    "    lambda x: json.loads(x) if isinstance(x, str) else x\n",
    ")\n",
    "\n",
    "print(f\"[i] Loaded {len(queries)} queries and {len(df_pred)} prediction records.\")\n"
   ]
  },
  {
   "cell_type": "markdown",
   "id": "94dbd803",
   "metadata": {},
   "source": [
    "### Cell 2: Evaluasi Retrieval Metrics"
   ]
  },
  {
   "cell_type": "code",
   "execution_count": 21,
   "id": "9abba481",
   "metadata": {},
   "outputs": [
    {
     "name": "stdout",
     "output_type": "stream",
     "text": [
      "[ii] Retrieval metrics saved to ..\\data\\eval\\retrieval_metrics.csv\n"
     ]
    }
   ],
   "source": [
    "# Hitung precision@1 & @5\n",
    "records = []\n",
    "for q, row in zip(queries, df_pred.itertuples()):\n",
    "    gt    = q['ground_truth']\n",
    "    top5  = row.top_5_case_ids\n",
    "    p1    = int(gt in (top5[:1] if isinstance(top5, list) else []))\n",
    "    p5    = int(gt in (top5[:5] if isinstance(top5, list) else []))\n",
    "    records.append({\n",
    "        'query':       q['query'],\n",
    "        'precision@1': p1,\n",
    "        'precision@5': p5\n",
    "    })\n",
    "\n",
    "df_ret = pd.DataFrame(records)\n",
    "df_ret.to_csv(RETRIEVAL_METRICS, index=False, encoding='utf-8')\n",
    "print(f\"[ii] Retrieval metrics saved to {RETRIEVAL_METRICS}\")\n"
   ]
  },
  {
   "cell_type": "markdown",
   "id": "7dc55873",
   "metadata": {},
   "source": [
    "### Cell 3: Evaluasi Prediksi Solusi"
   ]
  },
  {
   "cell_type": "code",
   "execution_count": 1,
   "id": "dd89b314",
   "metadata": {},
   "outputs": [
    {
     "name": "stdout",
     "output_type": "stream",
     "text": [
      "[iii] Prediction metrics saved to ..\\data\\eval\\prediction_metrics.csv\n",
      "{'accuracy': 1.0, 'precision': 1.0, 'recall': 1.0, 'f1': 1.0}\n"
     ]
    }
   ],
   "source": [
    "import os\n",
    "import pandas as pd\n",
    "from sklearn.metrics import accuracy_score, precision_score, recall_score, f1_score\n",
    "\n",
    "# Paths\n",
    "EVAL_DIR           = os.path.join(\"..\", \"data\", \"eval\")\n",
    "PREDICTIONS_CSV    = os.path.join(\"..\", \"data\", \"results\", \"predictions.csv\")\n",
    "PREDICTION_METRICS = os.path.join(EVAL_DIR, \"prediction_metrics.csv\")\n",
    "\n",
    "# Load predictions (sudah punya ground_truth & predicted_case)\n",
    "df_pred = pd.read_csv(PREDICTIONS_CSV)\n",
    "\n",
    "# Prepare y_true & y_pred\n",
    "y_true = df_pred['ground_truth'].tolist()\n",
    "y_pred = df_pred['predicted_case'].tolist()\n",
    "\n",
    "# Compute metrics\n",
    "metrics = {\n",
    "    'accuracy':  accuracy_score(y_true, y_pred),\n",
    "    'precision': precision_score(y_true, y_pred, average='macro', zero_division=0),\n",
    "    'recall':    recall_score(y_true, y_pred, average='macro', zero_division=0),\n",
    "    'f1':        f1_score(y_true, y_pred, average='macro', zero_division=0)\n",
    "}\n",
    "\n",
    "# Save to CSV\n",
    "pd.DataFrame([metrics]).to_csv(PREDICTION_METRICS, index=False, encoding='utf-8')\n",
    "print(f\"[iii] Prediction metrics saved to {PREDICTION_METRICS}\")\n",
    "print(metrics)\n"
   ]
  },
  {
   "cell_type": "markdown",
   "id": "39e3349d",
   "metadata": {},
   "source": [
    "### Cell 4: Visualisasi & Review"
   ]
  },
  {
   "cell_type": "code",
   "execution_count": 2,
   "id": "e9bcc6d5",
   "metadata": {},
   "outputs": [
    {
     "data": {
      "image/png": "[encoded data removed]",
      "text/plain": [
       "<Figure size 640x480 with 1 Axes>"
      ]
     },
     "metadata": {},
     "output_type": "display_data"
    },
    {
     "data": {
      "text/html": [
       "<div>\n",
       "<style scoped>\n",
       "    .dataframe tbody tr th:only-of-type {\n",
       "        vertical-align: middle;\n",
       "    }\n",
       "\n",
       "    .dataframe tbody tr th {\n",
       "        vertical-align: top;\n",
       "    }\n",
       "\n",
       "    .dataframe thead th {\n",
       "        text-align: right;\n",
       "    }\n",
       "</style>\n",
       "<table border=\"1\" class=\"dataframe\">\n",
       "  <thead>\n",
       "    <tr style=\"text-align: right;\">\n",
       "      <th></th>\n",
       "      <th>accuracy</th>\n",
       "      <th>precision</th>\n",
       "      <th>recall</th>\n",
       "      <th>f1</th>\n",
       "    </tr>\n",
       "  </thead>\n",
       "  <tbody>\n",
       "    <tr>\n",
       "      <th>0</th>\n",
       "      <td>1.0</td>\n",
       "      <td>1.0</td>\n",
       "      <td>1.0</td>\n",
       "      <td>1.0</td>\n",
       "    </tr>\n",
       "  </tbody>\n",
       "</table>\n",
       "</div>"
      ],
      "text/plain": [
       "   accuracy  precision  recall   f1\n",
       "0       1.0        1.0     1.0  1.0"
      ]
     },
     "metadata": {},
     "output_type": "display_data"
    }
   ],
   "source": [
    "import matplotlib.pyplot as plt\n",
    "from IPython.display import display\n",
    "\n",
    "# Plot retrieval precision (sudah di Cell 2)\n",
    "df_ret = pd.read_csv(os.path.join(EVAL_DIR, \"retrieval_metrics.csv\"))\n",
    "plt.figure()\n",
    "plt.plot(df_ret['precision@1'], marker='o', label='P@1')\n",
    "plt.plot(df_ret['precision@5'], marker='x', label='P@5')\n",
    "plt.title('Retrieval Precision per Query')\n",
    "plt.xlabel('Query Index')\n",
    "plt.ylabel('Precision')\n",
    "plt.legend()\n",
    "plt.show()\n",
    "\n",
    "# Display prediction metrics\n",
    "df_pred_metrics = pd.read_csv(PREDICTION_METRICS)\n",
    "display(df_pred_metrics)\n"
   ]
  },
  {
   "cell_type": "markdown",
   "id": "4cf749e4",
   "metadata": {},
   "source": [
    "### Cell 5: Diskusi Kegagalan & Kesimpulan"
   ]
  },
  {
   "cell_type": "markdown",
   "id": "54802f99",
   "metadata": {},
   "source": [
    "**Diskusi Hasil**  \n",
    "- Semua `predicted_case` sama dengan `ground_truth` → accuracy=1.0, precision=1.0, recall=1.0, F1=1.0.  \n",
    "- Artinya setiap query ground-truth muncul di posisi 1 hasil retrieval.\n",
    "\n",
    "**Rekomendasi**  \n",
    "- Uji dengan query yang lebih sulit (misal potongan kalimat yang singkat) untuk melihat apakah retrieval tetap akurat.  \n",
    "- Ekspansi dataset: tambahkan kasus non-penipuan sebagai negative samples.\n",
    "\n",
    "**Kesimpulan**  \n",
    "Model retrieval & reuse solusi saat ini sempurna pada 5 query ini, tapi perlu diuji skala lebih besar.\n"
   ]
  }
 ],
 "metadata": {
  "kernelspec": {
   "display_name": "Python 3",
   "language": "python",
   "name": "python3"
  },
  "language_info": {
   "codemirror_mode": {
    "name": "ipython",
    "version": 3
   },
   "file_extension": ".py",
   "mimetype": "text/x-python",
   "name": "python",
   "nbconvert_exporter": "python",
   "pygments_lexer": "ipython3",
   "version": "3.13.3"
  }
 },
 "nbformat": 4,
 "nbformat_minor": 5
}
